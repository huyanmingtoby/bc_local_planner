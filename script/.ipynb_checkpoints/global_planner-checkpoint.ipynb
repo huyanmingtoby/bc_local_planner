{
 "cells": [
  {
   "cell_type": "code",
   "execution_count": 1,
   "metadata": {},
   "outputs": [
    {
     "name": "stdout",
     "output_type": "stream",
     "text": [
      "17\n"
     ]
    }
   ],
   "source": [
    "import rospy\n",
    "import tf\n",
    "from nav_msgs.msg import Path\n",
    "from geometry_msgs.msg import PoseStamped\n",
    "\n",
    "\n",
    "import numpy as np\n",
    "import copy\n",
    "import scipy.interpolate as spi\n",
    "import matplotlib.pyplot as plt\n",
    "%matplotlib inline\n",
    "\n",
    "wps = np.loadtxt(\"waypoints.txt\", dtype=np.float64, delimiter=',')\n",
    "print(len(wps))"
   ]
  },
  {
   "cell_type": "code",
   "execution_count": 1,
   "metadata": {},
   "outputs": [
    {
     "name": "stdout",
     "output_type": "stream",
     "text": [
      "17\n",
      "current waypoint index: 1\n",
      "current waypoint index: 2\n",
      "current waypoint index: 3\n",
      "current waypoint index: 4\n",
      "current waypoint index: 5\n",
      "current waypoint index: 6\n",
      "current waypoint index: 7\n",
      "current waypoint index: 8\n",
      "current waypoint index: 9\n"
     ]
    }
   ],
   "source": [
    "# y1 = wps[:,0]\n",
    "# y2 = wps[:,1]\n",
    "# x = np.arange(1, len(y1)+1)\n",
    "\n",
    "# ipo1 = spi.splrep(x, y1, k=2)\n",
    "# ipo2 = spi.splrep(x, y2, k=2)\n",
    "\n",
    "# ipx = np.linspace(1, len(y1), 1000)\n",
    "# iy1 = spi.splev(ipx, ipo1)\n",
    "# iy2 = spi.splev(ipx, ipo2)\n",
    "\n",
    "# plt.plot(iy1, iy2, '-b')\n",
    "# plt.plot(y1, y2, 'or')\n",
    "# plt.show()\n",
    "\n",
    "class Global_Planner:\n",
    "    def __init__(self):\n",
    "        rospy.init_node('global_planner', anonymous=True)\n",
    "        self.pub_path = rospy.Publisher('/global_path', Path, queue_size=1)\n",
    "        self.pub_lg = rospy.Publisher('/localtarget', PoseStamped, queue_size=1)\n",
    "        rospy.Subscriber(\"/UGVpose\", PoseStamped, self.callback)\n",
    "        self.cwp_index = 0\n",
    "        self.ugv_pose = np.zeros(2)\n",
    "        self.gpath = Path()\n",
    "        self.gpath.header.frame_id = '/map'\n",
    "        \n",
    "        \n",
    "        \n",
    "    def callback(self, msg):\n",
    "        self.gpath.poses = []\n",
    "        self.ugv_pose[0] = msg.pose.position.x\n",
    "        self.ugv_pose[1] = msg.pose.position.y\n",
    "        if self.cwp_index < len(wps)-2:\n",
    "            dist2c = self.cul_dist(self.ugv_pose, wps[self.cwp_index])\n",
    "            dist2n = self.cul_dist(self.ugv_pose, wps[self.cwp_index+1])\n",
    "            if dist2n < dist2c:\n",
    "                self.cwp_index += 1\n",
    "                print \"current waypoint index: \"+str(self.cwp_index)\n",
    "        else:\n",
    "            self.cwp_index = len(wps) - 2\n",
    "        \n",
    "        y1 = copy.deepcopy(wps[self.cwp_index:,0])\n",
    "        y2 = copy.deepcopy(wps[self.cwp_index:,1])\n",
    "        \n",
    "        y1[0] = self.ugv_pose[0]\n",
    "        y2[0] = self.ugv_pose[1]\n",
    "        x = np.arange(1, len(y1)+1)\n",
    "\n",
    "        ipo1 = spi.splrep(x, y1, k=2)\n",
    "        ipo2 = spi.splrep(x, y2, k=2)\n",
    "\n",
    "        ipx = np.linspace(1, len(y1), 1000)\n",
    "        iy1 = spi.splev(ipx, ipo1)\n",
    "        iy2 = spi.splev(ipx, ipo2)            \n",
    "        for i in range(len(ipx)):\n",
    "            ipose = PoseStamped()\n",
    "            ipose.pose.position.x = iy1[i]\n",
    "            ipose.pose.position.y = iy2[i]\n",
    "            self.gpath.poses.append(ipose)       \n",
    "        self.gpath.header.stamp = rospy.Time.now()\n",
    "        self.pub_path.publish(self.gpath)            \n",
    "            \n",
    "    \n",
    "    def cul_dist(self, p1, p2):\n",
    "        dx = p1[0] - p2[0]\n",
    "        dy = p1[1] - p2[1]\n",
    "        return np.sqrt(dx*dx + dy*dy)\n",
    "    \n",
    "    def get_lg(self):\n",
    "        dist_sum = 0.0\n",
    "        lg_pose = PoseStamped()\n",
    "        lg_pose.header.frame_id = '/map'\n",
    "        lg_index = 0\n",
    "        head = 0.0\n",
    "        for i in range(len(self.gpath.poses)-1):\n",
    "            cg = self.gpath.poses[i]\n",
    "            ng = self.gpath.poses[i+1]\n",
    "            dx = ng.pose.position.x - cg.pose.position.x\n",
    "            dy = ng.pose.position.y - cg.pose.position.y\n",
    "            dist = np.sqrt(dx*dx+dy*dy)\n",
    "            dist_sum += dist\n",
    "            lg_index = i+1\n",
    "            if dist_sum > 10.5:\n",
    "                head = np.atan2(dy, dx)\n",
    "                break\n",
    "        lg_pose.pose.position = self.gpath.poses[lg_index].pose.position\n",
    "        lg_pose.pose.orientation = tf.transformations.quaternion_from_euler(0.0, 0.0, head)\n",
    "        \n",
    "        \n",
    "        \n",
    "            \n",
    "\n",
    "\n",
    "if __name__ == '__main__':\n",
    "    gp = Global_Planner()\n",
    "    "
   ]
  },
  {
   "cell_type": "code",
   "execution_count": 5,
   "metadata": {},
   "outputs": [
    {
     "name": "stdout",
     "output_type": "stream",
     "text": [
      "[[1 2]\n",
      " [3 4]\n",
      " [5 6]\n",
      " [7 8]]\n",
      "[[3 4]\n",
      " [5 6]\n",
      " [7 8]]\n"
     ]
    }
   ],
   "source": [
    "import numpy as np\n",
    "\n",
    "a = np.array([[1,2],[3,4],[5,6],[7,8]])\n",
    "print(a)\n",
    "a = a.tolist()\n",
    "del a[0]\n",
    "a = np.array(a)\n",
    "print(a)"
   ]
  },
  {
   "cell_type": "code",
   "execution_count": null,
   "metadata": {},
   "outputs": [],
   "source": []
  }
 ],
 "metadata": {
  "kernelspec": {
   "display_name": "Python 2",
   "language": "python",
   "name": "python2"
  },
  "language_info": {
   "codemirror_mode": {
    "name": "ipython",
    "version": 2
   },
   "file_extension": ".py",
   "mimetype": "text/x-python",
   "name": "python",
   "nbconvert_exporter": "python",
   "pygments_lexer": "ipython2",
   "version": "2.7.6"
  }
 },
 "nbformat": 4,
 "nbformat_minor": 2
}
