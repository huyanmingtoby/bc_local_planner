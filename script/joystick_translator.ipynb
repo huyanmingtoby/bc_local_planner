{
 "cells": [
  {
   "cell_type": "code",
   "execution_count": null,
   "metadata": {},
   "outputs": [],
   "source": [
    "import rospy\n",
    "from sensor_msgs.msg import Joy\n",
    "from geometry_msgs.msg import TwistStamped\n",
    "\n",
    "class Translator:\n",
    "    def __init__(self):\n",
    "        self.sub = rospy.Subscriber(\"/joy\", Joy, self.callback)\n",
    "        self.pub = rospy.Publisher(\"/CMD\", TwistStamped, queue_size=1)\n",
    "        self.cmd = TwistStamped()\n",
    "        rate = rospy.Rate(10) # 10hz\n",
    "        while not rospy.is_shutdown():\n",
    "            self.pub.publish(self.cmd)\n",
    "            rate.sleep()\n",
    "        \n",
    "    def callback(self, message):\n",
    "#         rospy.loginfo(\"joy_translater received axes %s\", message.axes)\n",
    "        self.cmd.twist.linear.x = 2.0*message.axes[1]\n",
    "        self.cmd.twist.angular.z = message.axes[0]/4.0\n",
    "        \n",
    "if __name__=='__main__':\n",
    "    rospy.init_node('joy_translator')\n",
    "    t = Translator()\n",
    "    rospy.spin()"
   ]
  },
  {
   "cell_type": "code",
   "execution_count": null,
   "metadata": {},
   "outputs": [],
   "source": []
  }
 ],
 "metadata": {
  "kernelspec": {
   "display_name": "Python 2",
   "language": "python",
   "name": "python2"
  },
  "language_info": {
   "codemirror_mode": {
    "name": "ipython",
    "version": 2
   },
   "file_extension": ".py",
   "mimetype": "text/x-python",
   "name": "python",
   "nbconvert_exporter": "python",
   "pygments_lexer": "ipython2",
   "version": "2.7.6"
  }
 },
 "nbformat": 4,
 "nbformat_minor": 2
}
